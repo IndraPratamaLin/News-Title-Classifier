{
 "cells": [
  {
   "cell_type": "markdown",
   "metadata": {},
   "source": [
    "# News Title Classification Project - Modeling (LSTM / GRU)\n",
    "\n",
    "After I finished cleaning data, i realized:\n",
    "\n",
    "* News Title length is not too long (mean character length: 53, max character length: 87)\n",
    "* We have a small dataset (only 64654 rows)\n",
    "* All Title length are written in English (one language)\n",
    "* We have class imbalance problem!"
   ]
  },
  {
   "cell_type": "markdown",
   "metadata": {},
   "source": [
    "## Evaluation Metrics - Macro F1-score\n",
    "\n",
    "Because of class imbalance problem, also after [read this article](https://datascience.stackexchange.com/questions/65839/macro-average-and-weighted-average-meaning-in-classification-report), i choosed **Macro F1-score** for our evaluation metrics.\n",
    "\n",
    "So i will use the model which has the highest Macro (avg) F1-score for production.\n",
    "\n",
    "    Macro F1 calculates the F1 separated by class but not using weights for the aggregation, which resuls in a bigger penalisation when your model does not perform well with the minority classes (which is exactly what you want when there is class imbalance problem)\n",
    "    \n",
    "<hr>\n",
    "\n",
    "## Model (Infrastructure) planning:\n",
    "\n",
    "Nowadays, Transformer model like BERT, ALBERT, XLM-RoBERTa has proven to be especially effective for common natural language processing tasks. This model relying entirely on self-attention to compute representations of its input and output without using sequence-aligned RNNs or convolution.\n",
    "\n",
    "I've read Transformer model can handle EXTREME long memory (LSTM / GRU only handle LONG memory). But i realized we only have small dataset here (different with real-working problem i believe), also only have 87 max character length.\n",
    "\n",
    "    So i decided to start from LSTM / GRU model with fast-text word embedding, then compare with Transformer model like BERT, ALBERT etc"
   ]
  },
  {
   "cell_type": "markdown",
   "metadata": {},
   "source": [
    "# Experiment with LSTM / GRU results:\n",
    "\n",
    "|**Model**|**Bidirectional**|**Optimizer**|**Best Epoch**|**Val loss**|**Val Precision**|**Val Recall**|**F1 score (macro)**|**NOTES**|\n",
    "|:-----:|:-----:|:-----:|:-----:|:-----:|:-----:|:-----:|:-----:|:-----:|\n",
    "|2 LSTM (128, dropout=0.25), SpatialDropout1D(0.2)| No| Adam (default)| 11| 0.2005| 0.938| 0.926| 0.93| Baseline|\n",
    "|2 GRU (128, dropout=0.25), SpatialDropout1D(0.2)| No| Adam (default)| 10| 0.2015| 0.9403| 0.9277| 0.92| Train-time Faster|\n",
    "|2 GRU (128, dropout=0.5), SpatialDropout1D(0.2)| Yes| Adam (default)| 9| 0.2064| 0.9392| 0.9268| 0.92| Train-time longer, no improvement|\n",
    "|2 GRU (128, dropout=0.5), SpatialDropout1D(0.2) with class balanced| Yes| Adam (default)| 9| 0.2137| 0.9331| 0.9201| 0.92| Best BALANCED Recall for all label|\n",
    "|Same above, add Synonym Text Augmentation| Yes| Adam (default)| 11| 0.1710| 0.9464| 0.9355| 0.93| Best validation performance, 2 hours Train-time|\n",
    "|Same above, add Synonym Text Augmentation + Label Smoothing| Yes| Adam (default)| 11| 0.4686 (label smoothing)| 0.9468| 0.9322| 0.93| Better generalization with label smoothing|"
   ]
  },
  {
   "cell_type": "markdown",
   "metadata": {},
   "source": [
    "## Conclusion\n",
    "\n",
    "* Our LSTM / GRU perform well for this classification task.\n",
    "* Actually we can got better performance with bigger dataset, add self-attention, etc.\n",
    "* The big problem is on **Technology and Business category news-title**, because of these title tend to have a multi-labeled category problem, it was difficult to got a high recall for these two category\n",
    "\n",
    "<hr>\n",
    "\n",
    "    Next i will try TRANSFORMER model like BERT, ALBERT etc, i believe we can get better performance with these model, let's see on my next notebook :)"
   ]
  },
  {
   "cell_type": "code",
   "execution_count": 1,
   "metadata": {
    "_cell_guid": "b1076dfc-b9ad-4769-8c92-a6c4dae69d19",
    "_uuid": "8f2839f25d086af736a60e9eeb907d3b93b6e0e5"
   },
   "outputs": [
    {
     "name": "stdout",
     "output_type": "stream",
     "text": [
      "Using Tensorflow version: 2.3.0\n"
     ]
    }
   ],
   "source": [
    "import numpy as np\n",
    "import pandas as pd\n",
    "import matplotlib.pyplot as plt\n",
    "import seaborn as sns\n",
    "import os\n",
    "import gc\n",
    "import random\n",
    "import pickle\n",
    "import tensorflow as tf\n",
    "import tensorflow.keras.backend as K\n",
    "\n",
    "from tqdm.notebook import tqdm\n",
    "\n",
    "plt.style.use('fivethirtyeight')\n",
    "plt.rcParams['figure.figsize'] = [14, 8]\n",
    "\n",
    "pd.set_option('display.max_colwidth', None)\n",
    "\n",
    "print('Using Tensorflow version:', tf.__version__)"
   ]
  },
  {
   "cell_type": "code",
   "execution_count": 2,
   "metadata": {},
   "outputs": [],
   "source": [
    "def set_seed(seed):\n",
    "    random.seed(seed)\n",
    "    os.environ['PYTHONHASHSEED'] = str(seed)\n",
    "    np.random.seed(seed)\n",
    "    tf.random.set_seed(seed)\n",
    "\n",
    "set_seed(2020)"
   ]
  },
  {
   "cell_type": "code",
   "execution_count": 3,
   "metadata": {
    "_cell_guid": "79c7e3d0-c299-4dcb-8224-4455121ee9b0",
    "_uuid": "d629ff2d2480ee46fbb7e2d37f6b5fab8052498a"
   },
   "outputs": [
    {
     "name": "stdout",
     "output_type": "stream",
     "text": [
      "News df cleaned shape: (64654, 3)\n"
     ]
    }
   ],
   "source": [
    "news_df_cleaned = pd.read_csv('/kaggle/input/gtect-project/news_title_cleaned.csv')\n",
    "\n",
    "print('News df cleaned shape:', news_df_cleaned.shape)"
   ]
  },
  {
   "cell_type": "code",
   "execution_count": 4,
   "metadata": {},
   "outputs": [
    {
     "data": {
      "text/html": [
       "<div>\n",
       "<style scoped>\n",
       "    .dataframe tbody tr th:only-of-type {\n",
       "        vertical-align: middle;\n",
       "    }\n",
       "\n",
       "    .dataframe tbody tr th {\n",
       "        vertical-align: top;\n",
       "    }\n",
       "\n",
       "    .dataframe thead th {\n",
       "        text-align: right;\n",
       "    }\n",
       "</style>\n",
       "<table border=\"1\" class=\"dataframe\">\n",
       "  <thead>\n",
       "    <tr style=\"text-align: right;\">\n",
       "      <th></th>\n",
       "      <th>News Title</th>\n",
       "      <th>Category</th>\n",
       "      <th>text_length</th>\n",
       "    </tr>\n",
       "  </thead>\n",
       "  <tbody>\n",
       "    <tr>\n",
       "      <th>0</th>\n",
       "      <td>google rolls out stories for tricked out photo playback</td>\n",
       "      <td>Technology</td>\n",
       "      <td>55</td>\n",
       "    </tr>\n",
       "    <tr>\n",
       "      <th>1</th>\n",
       "      <td>dov charney s redeeming quality</td>\n",
       "      <td>Business</td>\n",
       "      <td>31</td>\n",
       "    </tr>\n",
       "    <tr>\n",
       "      <th>2</th>\n",
       "      <td>white god adds un certain regard to the palm dog</td>\n",
       "      <td>Entertainment</td>\n",
       "      <td>48</td>\n",
       "    </tr>\n",
       "    <tr>\n",
       "      <th>3</th>\n",
       "      <td>google shows off androids for wearables cars tvs</td>\n",
       "      <td>Technology</td>\n",
       "      <td>48</td>\n",
       "    </tr>\n",
       "    <tr>\n",
       "      <th>4</th>\n",
       "      <td>china may bank loans at bln yuan</td>\n",
       "      <td>Business</td>\n",
       "      <td>36</td>\n",
       "    </tr>\n",
       "  </tbody>\n",
       "</table>\n",
       "</div>"
      ],
      "text/plain": [
       "                                                News Title       Category  \\\n",
       "0  google rolls out stories for tricked out photo playback     Technology   \n",
       "1                          dov charney s redeeming quality       Business   \n",
       "2         white god adds un certain regard to the palm dog  Entertainment   \n",
       "3         google shows off androids for wearables cars tvs     Technology   \n",
       "4                         china may bank loans at bln yuan       Business   \n",
       "\n",
       "   text_length  \n",
       "0           55  \n",
       "1           31  \n",
       "2           48  \n",
       "3           48  \n",
       "4           36  "
      ]
     },
     "execution_count": 4,
     "metadata": {},
     "output_type": "execute_result"
    }
   ],
   "source": [
    "news_df_cleaned.head()"
   ]
  },
  {
   "cell_type": "code",
   "execution_count": 5,
   "metadata": {},
   "outputs": [
    {
     "name": "stdout",
     "output_type": "stream",
     "text": [
      "Weight for class 0 (Technology): 0.97\n",
      "Weight for class 1 (Business): 0.93\n",
      "Weight for class 2 (Entertainment): 0.68\n",
      "Weight for class 3 (Medical): 2.31\n"
     ]
    }
   ],
   "source": [
    "# https://www.kaggle.com/amyjang/tensorflow-transfer-learning-melanoma\n",
    "\n",
    "weight_for_Technology = (1 / len(news_df_cleaned[news_df_cleaned['Category'] == 'Technology'])) * (news_df_cleaned.shape[0]) / 4.0\n",
    "weight_for_Business = (1 / len(news_df_cleaned[news_df_cleaned['Category'] == 'Business'])) * (news_df_cleaned.shape[0]) / 4.0\n",
    "weight_for_Entertainment = (1 / len(news_df_cleaned[news_df_cleaned['Category'] == 'Entertainment'])) * (news_df_cleaned.shape[0]) / 4.0\n",
    "weight_for_Medical = (1 / len(news_df_cleaned[news_df_cleaned['Category'] == 'Medical'])) * (news_df_cleaned.shape[0]) / 4.0\n",
    "\n",
    "# set balanced class-weights\n",
    "class_weight = {0: weight_for_Technology,\n",
    "                1: weight_for_Business,\n",
    "                2: weight_for_Entertainment,\n",
    "                3: weight_for_Medical}\n",
    "\n",
    "print('Weight for class 0 (Technology): {:.2f}'.format(weight_for_Technology))\n",
    "print('Weight for class 1 (Business): {:.2f}'.format(weight_for_Business))\n",
    "print('Weight for class 2 (Entertainment): {:.2f}'.format(weight_for_Entertainment))\n",
    "print('Weight for class 3 (Medical): {:.2f}'.format(weight_for_Medical))"
   ]
  },
  {
   "cell_type": "code",
   "execution_count": 6,
   "metadata": {},
   "outputs": [],
   "source": [
    "# convert label to label-encoder\n",
    "cat2id = {\n",
    "    'Technology': 0,\n",
    "    'Business': 1,\n",
    "    'Entertainment': 2,\n",
    "    'Medical': 3\n",
    "}\n",
    "\n",
    "# convert back label-encoder to original label (after prediction)\n",
    "id2cat = {\n",
    "    0: 'Technology',\n",
    "    1: 'Business',\n",
    "    2: 'Entertainment',\n",
    "    3: 'Medical'\n",
    "}"
   ]
  },
  {
   "cell_type": "code",
   "execution_count": 7,
   "metadata": {},
   "outputs": [],
   "source": [
    "news_df_cleaned['Category'] = news_df_cleaned['Category'].map(cat2id)"
   ]
  },
  {
   "cell_type": "markdown",
   "metadata": {},
   "source": [
    "## Validation Strategy\n",
    "\n",
    "* First, i divided train_dataset 90% - test_dataset 10%\n",
    "\n",
    "GOAL: Use test dataset TO MEASURE our model performance quality AFTER training\n",
    "\n",
    "<hr>\n",
    "\n",
    "* Then i divided train_dataset 90% - validation_dataset 10%\n",
    "\n",
    "GOAL: Use validation dataset TO MEASUE our model performance DURING training"
   ]
  },
  {
   "cell_type": "code",
   "execution_count": 8,
   "metadata": {},
   "outputs": [],
   "source": [
    "from sklearn.model_selection import train_test_split\n",
    "\n",
    "# train_dataset 90% - test_dataset 10%\n",
    "X_train, X_test, y_train, y_test = train_test_split(news_df_cleaned['News Title'],\n",
    "                                                   news_df_cleaned['Category'],\n",
    "                                                   test_size=0.1,\n",
    "                                                   stratify=news_df_cleaned['Category'],\n",
    "                                                   random_state=2020)"
   ]
  },
  {
   "cell_type": "markdown",
   "metadata": {},
   "source": [
    "# Usually more data we have, better performance we can achieve in Deep Learning\n",
    "\n",
    "Deep Learning models typically have millions of parameters, thus require large amounts of data for training in order for over-fit avoidance and better model generalization. However, collecting a large annotated data samples is time-consuming and expensive. One technique aiming to address such a data hungry problem is data augmentation.\n",
    "\n",
    "Proper data augmentation is useful to boost up your model performance. Augmentation is very popular in computer vision area. Image can be augmented easily by flipping, rotation, random cropping etc. It is proved that augmentation is one of the anchor to success of computer vision model.\n",
    "\n",
    "In Natural Language Processing field, it is hard to augmenting text due to high complexity of language. Not every word we can replace it by others such as a, an, the. Also, not every word has synonym. Even changing a word, the context will be totally difference.\n",
    "\n",
    "There are several techniques to do **text augmentation**:\n",
    "* Synonym Replacement: Randomly replace n words in the sentences with their synonyms\n",
    "* Random Insertion: Insert random synonyms of words in a sentence, this is done n times\n",
    "* Random Deletion: Random removal for each word in the sentence with a probability p\n",
    "* Contextualized Word Embeddings\n",
    "* Text Generation (GPT-2 or XLNet)\n",
    "\n",
    "> For reference please [check here](https://towardsdatascience.com/data-augmentation-in-nlp-2801a34dfc28). In this notebook we'll use [nlpaug](https://pypi.org/project/nlpaug/) library\n",
    "\n",
    "    Actually web scraping or finding similar dataset also effective, but i tried to use this technique in this project"
   ]
  },
  {
   "cell_type": "code",
   "execution_count": 9,
   "metadata": {},
   "outputs": [
    {
     "name": "stderr",
     "output_type": "stream",
     "text": [
      "\u001b[34m\u001b[1mwandb\u001b[0m: \u001b[33mWARNING\u001b[0m W&B installed but not logged in.  Run `wandb login` or set the WANDB_API_KEY env variable.\n"
     ]
    }
   ],
   "source": [
    "!pip install nlpaug -q\n",
    "\n",
    "import nlpaug.augmenter.char as nac\n",
    "import nlpaug.augmenter.word as naw"
   ]
  },
  {
   "cell_type": "code",
   "execution_count": 10,
   "metadata": {},
   "outputs": [
    {
     "data": {
      "application/vnd.jupyter.widget-view+json": {
       "model_id": "fd287f7c130543b28f0ab0c947bcef44",
       "version_major": 2,
       "version_minor": 0
      },
      "text/plain": [
       "HBox(children=(FloatProgress(value=0.0, max=58188.0), HTML(value='')))"
      ]
     },
     "metadata": {},
     "output_type": "display_data"
    },
    {
     "name": "stdout",
     "output_type": "stream",
     "text": [
      "\n",
      "CPU times: user 1min 18s, sys: 1.85 s, total: 1min 20s\n",
      "Wall time: 1min 22s\n"
     ]
    }
   ],
   "source": [
    "%%time\n",
    "\n",
    "review_augmented = []\n",
    "\n",
    "# aug = nas.ContextualWordEmbsForSentenceAug(model_path='gpt2') # Text Generation\n",
    "aug = naw.SynonymAug(aug_src='wordnet', aug_p=0.5) # higher aug_p = substitute more words\n",
    "\n",
    "for news_title in tqdm(X_train):\n",
    "    augmented_text = aug.augment(news_title)\n",
    "    review_augmented.append(augmented_text)"
   ]
  },
  {
   "cell_type": "code",
   "execution_count": 11,
   "metadata": {},
   "outputs": [
    {
     "name": "stdout",
     "output_type": "stream",
     "text": [
      "Original shape: (58188, 2)\n",
      "Augmented shape: (58188, 2)\n",
      "new train (combined) shape: (116376, 2)\n"
     ]
    }
   ],
   "source": [
    "train_aug = pd.DataFrame({'News Title': review_augmented,\n",
    "                          'Category': y_train})\n",
    "\n",
    "original_train = pd.DataFrame({'News Title': X_train,\n",
    "                               'Category': y_train})\n",
    "\n",
    "new_train = pd.concat([train_aug, original_train])\n",
    "\n",
    "print('Original shape:', original_train.shape)\n",
    "print('Augmented shape:', train_aug.shape)\n",
    "print('new train (combined) shape:', new_train.shape)"
   ]
  },
  {
   "cell_type": "code",
   "execution_count": 12,
   "metadata": {},
   "outputs": [
    {
     "name": "stdout",
     "output_type": "stream",
     "text": [
      "X_train shape: (104738,)\n",
      "X_valid shape: (11638,)\n",
      "X_test shape: (6466,)\n"
     ]
    }
   ],
   "source": [
    "#  train_dataset 90% - validation_dataset 10%\n",
    "X_train, X_valid, y_train, y_valid = train_test_split(new_train['News Title'],\n",
    "                                                      new_train['Category'],\n",
    "                                                      test_size=0.1,\n",
    "                                                      stratify=new_train['Category'],\n",
    "                                                      random_state=2020)\n",
    "\n",
    "print('X_train shape:', X_train.shape)\n",
    "print('X_valid shape:', X_valid.shape)\n",
    "print('X_test shape:', X_test.shape)"
   ]
  },
  {
   "cell_type": "code",
   "execution_count": 13,
   "metadata": {},
   "outputs": [],
   "source": [
    "from tensorflow.keras.utils import to_categorical\n",
    "\n",
    "y_train = to_categorical(y_train)\n",
    "y_valid = to_categorical(y_valid)"
   ]
  },
  {
   "cell_type": "code",
   "execution_count": 14,
   "metadata": {},
   "outputs": [
    {
     "name": "stdout",
     "output_type": "stream",
     "text": [
      "Vocabulary size: 32633\n"
     ]
    }
   ],
   "source": [
    "from tensorflow.keras.preprocessing.text import Tokenizer\n",
    "\n",
    "tokenizer = Tokenizer()\n",
    "\n",
    "# fit to train\n",
    "tokenizer.fit_on_texts(X_train)\n",
    "\n",
    "# then convert text to numpy array\n",
    "train_sequences = tokenizer.texts_to_sequences(X_train)\n",
    "valid_sequences = tokenizer.texts_to_sequences(X_valid)\n",
    "test_sequences = tokenizer.texts_to_sequences(X_test)\n",
    "\n",
    "# count number of vocabulary in dataset\n",
    "vocab_size = len(tokenizer.word_index)\n",
    "print('Vocabulary size:', vocab_size)"
   ]
  },
  {
   "cell_type": "code",
   "execution_count": 17,
   "metadata": {},
   "outputs": [],
   "source": [
    "# save tokenizer for deployment later\n",
    "pickle.dump(tokenizer, open('tokenizer.pkl', 'wb'))\n",
    "\n",
    "# load for prediction (use for deployment later)\n",
    "# tokenizer = pickle.load(open('tokenizer.pkl', 'rb'))"
   ]
  },
  {
   "cell_type": "code",
   "execution_count": 26,
   "metadata": {},
   "outputs": [
    {
     "name": "stdout",
     "output_type": "stream",
     "text": [
      "max_len: 26\n"
     ]
    }
   ],
   "source": [
    "from tensorflow.keras.preprocessing.sequence import pad_sequences\n",
    "\n",
    "MAXLEN = max(map(len, new_train['News Title'].str.split()))\n",
    "print('max_len:', MAXLEN)\n",
    "\n",
    "# padding='post' -> make sure all sentences are the same length, by add ZERO PADDING to sentences whose less than max_len\n",
    "# truncating='post' -> cut text that exceeds the limit of max_len, post mean cut at the back of the sentence\n",
    "X_train_padded = pad_sequences(train_sequences, maxlen=MAXLEN, padding='post', truncating='post')\n",
    "X_valid_padded = pad_sequences(valid_sequences, maxlen=MAXLEN, padding='post', truncating='post')\n",
    "X_test_padded = pad_sequences(test_sequences, maxlen=MAXLEN, padding='post', truncating='post')"
   ]
  },
  {
   "cell_type": "markdown",
   "metadata": {},
   "source": [
    "### Example: before - after padding"
   ]
  },
  {
   "cell_type": "code",
   "execution_count": 27,
   "metadata": {},
   "outputs": [
    {
     "name": "stdout",
     "output_type": "stream",
     "text": [
      "Before Padding:\n",
      "\n",
      "[1439, 625, 1, 12852, 5137, 9835, 152, 108, 17810, 8, 402, 2536]\n",
      "\n",
      "After Padding:\n",
      "\n",
      "[ 1439   625     1 12852  5137  9835   152   108 17810     8   402  2536\n",
      "     0     0     0     0     0     0     0     0     0     0     0     0\n",
      "     0     0]\n"
     ]
    }
   ],
   "source": [
    "print('Before Padding:\\n')\n",
    "print(train_sequences[10])\n",
    "\n",
    "print('')\n",
    "\n",
    "print('After Padding:\\n')\n",
    "print(X_train_padded[10])"
   ]
  },
  {
   "cell_type": "markdown",
   "metadata": {},
   "source": [
    "## Use Fast-Text word embedding\n",
    "\n",
    "One major draw-back for **another** word-embedding techniques like **word2vec** and **glove** was its inability to deal with out of corpus words. If there is a word that does not appear in the corpus, word2vec or glove fails to get their vectorized representation.\n",
    "\n",
    "Fasttext treats each word as composed of n-grams. That is let us say value of n is 3 for the word ‘India’ we have ‘<in’, ‘ind’, ‘ndi’, ‘di>’ as the n-gram representation. That's why Fasttext can generate embedding for the words that does not appear in the training corpus. This can be done by adding the character n-gram of all the n-gram representations."
   ]
  },
  {
   "cell_type": "code",
   "execution_count": 28,
   "metadata": {},
   "outputs": [],
   "source": [
    "def load_embeddings(path):\n",
    "    with open(path,'rb') as f:\n",
    "        emb_arr = pickle.load(f)\n",
    "    return emb_arr\n",
    "\n",
    "def build_matrix(word_index, path):\n",
    "    embedding_index = load_embeddings(path)\n",
    "    embedding_matrix = np.zeros((len(word_index) + 1, 300))\n",
    "    unknown_words = []\n",
    "    \n",
    "    for word, i in word_index.items():\n",
    "        try:\n",
    "            embedding_matrix[i] = embedding_index[word]\n",
    "        except KeyError:\n",
    "            unknown_words.append(word)\n",
    "    return embedding_matrix, unknown_words"
   ]
  },
  {
   "cell_type": "code",
   "execution_count": 29,
   "metadata": {},
   "outputs": [
    {
     "name": "stdout",
     "output_type": "stream",
     "text": [
      "Unknown words in fasttext: 2388\n"
     ]
    }
   ],
   "source": [
    "FASTTEXT_PATH = '../input/pickled-crawl300d2m-for-kernel-competitions/crawl-300d-2M.pkl'\n",
    "\n",
    "fasttext_matrix, unknown_word_fasttext = build_matrix(tokenizer.word_index, FASTTEXT_PATH)\n",
    "print('Unknown words in fasttext:', len(unknown_word_fasttext))"
   ]
  },
  {
   "cell_type": "markdown",
   "metadata": {},
   "source": [
    "### What is unknown word?\n",
    "\n",
    "    a list of words which fasttext fails to get their vector representation"
   ]
  },
  {
   "cell_type": "code",
   "execution_count": 30,
   "metadata": {},
   "outputs": [
    {
     "data": {
      "text/plain": [
       "['beyonc',\n",
       " 'labeouf',\n",
       " 'alstom',\n",
       " 'dorfman',\n",
       " 'oxycantha',\n",
       " 'paribas',\n",
       " 'leontyne',\n",
       " 'hortons',\n",
       " \"one's\",\n",
       " 'shailene']"
      ]
     },
     "execution_count": 30,
     "metadata": {},
     "output_type": "execute_result"
    }
   ],
   "source": [
    "unknown_word_fasttext[:10]"
   ]
  },
  {
   "cell_type": "markdown",
   "metadata": {},
   "source": [
    "## Create LSTM / GRU model"
   ]
  },
  {
   "cell_type": "markdown",
   "metadata": {},
   "source": [
    "### Add Label Smoothing\n",
    "\n",
    "When using deep learning models for classification tasks, we usually encounter the following problems: overfitting, and overconfidence. Overfitting is well studied and can be tackled with early stopping, dropout, weight regularization etc. On the other hand, we have less tools to tackle overconfidence. Label smoothing is a regularization technique that addresses both problems.\n",
    "\n",
    "    label smoothing has been used in many state-of-the-art models, including image classification, language translation and speech recognition"
   ]
  },
  {
   "cell_type": "code",
   "execution_count": 33,
   "metadata": {},
   "outputs": [],
   "source": [
    "from tensorflow.keras import Sequential\n",
    "from tensorflow.keras.layers import Embedding, SpatialDropout1D, LSTM, Bidirectional, Dense, GRU, GlobalMaxPool1D\n",
    "from tensorflow.keras.optimizers import Adam\n",
    "from tensorflow.keras.losses import CategoricalCrossentropy\n",
    "\n",
    "def get_model():\n",
    "    \n",
    "    embedding = Embedding(vocab_size+1, 300, weights=[fasttext_matrix], trainable=False, input_length=MAXLEN)\n",
    "    \n",
    "    model = Sequential()\n",
    "    model.add(embedding)\n",
    "    model.add(SpatialDropout1D(0.2))\n",
    "    \n",
    "    # add BIDIRECTIONAL\n",
    "    model.add(Bidirectional(GRU(128, dropout=0.25, recurrent_dropout=0.25, return_sequences=True)))\n",
    "    model.add(Bidirectional(GRU(128, dropout=0.5, recurrent_dropout=0.5)))\n",
    "    \n",
    "    model.add(Dense(4, activation='softmax')) # 4 class label to classify\n",
    "    \n",
    "    # compile model\n",
    "    model.compile(optimizer='adam',\n",
    "                  loss=CategoricalCrossentropy(label_smoothing=0.1),\n",
    "                  metrics=[tf.keras.metrics.Precision(name='precision'), tf.keras.metrics.Recall(name='recall')])\n",
    "    \n",
    "    return model"
   ]
  },
  {
   "cell_type": "code",
   "execution_count": 34,
   "metadata": {},
   "outputs": [
    {
     "name": "stdout",
     "output_type": "stream",
     "text": [
      "Model: \"sequential\"\n",
      "_________________________________________________________________\n",
      "Layer (type)                 Output Shape              Param #   \n",
      "=================================================================\n",
      "embedding (Embedding)        (None, 26, 300)           9790200   \n",
      "_________________________________________________________________\n",
      "spatial_dropout1d (SpatialDr (None, 26, 300)           0         \n",
      "_________________________________________________________________\n",
      "bidirectional (Bidirectional (None, 26, 256)           330240    \n",
      "_________________________________________________________________\n",
      "bidirectional_1 (Bidirection (None, 256)               296448    \n",
      "_________________________________________________________________\n",
      "dense (Dense)                (None, 4)                 1028      \n",
      "=================================================================\n",
      "Total params: 10,417,916\n",
      "Trainable params: 627,716\n",
      "Non-trainable params: 9,790,200\n",
      "_________________________________________________________________\n"
     ]
    }
   ],
   "source": [
    "K.clear_session()\n",
    "\n",
    "model = get_model()\n",
    "model.summary()"
   ]
  },
  {
   "cell_type": "code",
   "execution_count": 35,
   "metadata": {},
   "outputs": [],
   "source": [
    "from tensorflow.keras.callbacks import ModelCheckpoint\n",
    "\n",
    "checkpoint = ModelCheckpoint(monitor='val_loss', save_best_only=True, filepath='best_GRU_loss.h5')"
   ]
  },
  {
   "cell_type": "code",
   "execution_count": 36,
   "metadata": {},
   "outputs": [
    {
     "name": "stdout",
     "output_type": "stream",
     "text": [
      "Epoch 1/12\n",
      "1636/1636 [==============================] - 626s 382ms/step - loss: 0.6926 - precision: 0.8732 - recall: 0.7707 - val_loss: 0.5954 - val_precision: 0.8987 - val_recall: 0.8440\n",
      "Epoch 2/12\n",
      "1636/1636 [==============================] - 608s 371ms/step - loss: 0.6107 - precision: 0.8963 - recall: 0.8349 - val_loss: 0.5507 - val_precision: 0.9179 - val_recall: 0.8754\n",
      "Epoch 3/12\n",
      "1636/1636 [==============================] - 606s 370ms/step - loss: 0.5745 - precision: 0.9105 - recall: 0.8599 - val_loss: 0.5362 - val_precision: 0.9206 - val_recall: 0.8894\n",
      "Epoch 4/12\n",
      "1636/1636 [==============================] - 606s 370ms/step - loss: 0.5480 - precision: 0.9206 - recall: 0.8768 - val_loss: 0.5160 - val_precision: 0.9292 - val_recall: 0.9035\n",
      "Epoch 5/12\n",
      "1636/1636 [==============================] - 607s 371ms/step - loss: 0.5304 - precision: 0.9262 - recall: 0.8890 - val_loss: 0.5102 - val_precision: 0.9315 - val_recall: 0.9062\n",
      "Epoch 6/12\n",
      "1636/1636 [==============================] - 608s 372ms/step - loss: 0.5123 - precision: 0.9322 - recall: 0.8995 - val_loss: 0.5063 - val_precision: 0.9304 - val_recall: 0.9110\n",
      "Epoch 7/12\n",
      "1636/1636 [==============================] - 609s 372ms/step - loss: 0.5030 - precision: 0.9352 - recall: 0.9060 - val_loss: 0.5002 - val_precision: 0.9329 - val_recall: 0.9152\n",
      "Epoch 8/12\n",
      "1636/1636 [==============================] - 605s 370ms/step - loss: 0.4938 - precision: 0.9382 - recall: 0.9116 - val_loss: 0.4823 - val_precision: 0.9417 - val_recall: 0.9242\n",
      "Epoch 9/12\n",
      "1636/1636 [==============================] - 606s 370ms/step - loss: 0.4862 - precision: 0.9415 - recall: 0.9160 - val_loss: 0.4849 - val_precision: 0.9425 - val_recall: 0.9230\n",
      "Epoch 10/12\n",
      "1636/1636 [==============================] - 604s 369ms/step - loss: 0.4791 - precision: 0.9443 - recall: 0.9209 - val_loss: 0.4723 - val_precision: 0.9452 - val_recall: 0.9313\n",
      "Epoch 11/12\n",
      "1636/1636 [==============================] - 604s 369ms/step - loss: 0.4748 - precision: 0.9458 - recall: 0.9239 - val_loss: 0.4686 - val_precision: 0.9468 - val_recall: 0.9322\n",
      "Epoch 12/12\n",
      "1636/1636 [==============================] - 606s 370ms/step - loss: 0.4693 - precision: 0.9476 - recall: 0.9266 - val_loss: 0.4698 - val_precision: 0.9465 - val_recall: 0.9324\n"
     ]
    }
   ],
   "source": [
    "BATCH_SIZE = 64\n",
    "n_steps = X_train.shape[0] // BATCH_SIZE\n",
    "\n",
    "history = model.fit(X_train_padded, y_train,\n",
    "                    batch_size=BATCH_SIZE,\n",
    "                    steps_per_epoch=n_steps,\n",
    "                    epochs=12,\n",
    "                    validation_data=(X_valid_padded, y_valid),\n",
    "                    callbacks=[checkpoint],\n",
    "                    class_weight=class_weight)"
   ]
  },
  {
   "cell_type": "code",
   "execution_count": 37,
   "metadata": {},
   "outputs": [
    {
     "data": {
      "image/png": "[encoded data removed]",
      "text/plain": [
       "<Figure size 1008x576 with 1 Axes>"
      ]
     },
     "metadata": {},
     "output_type": "display_data"
    }
   ],
   "source": [
    "# Get training and test loss histories\n",
    "training_loss = history.history['loss']\n",
    "val_loss = history.history['val_loss']\n",
    "\n",
    "# Create count of the number of epochs\n",
    "epoch_count = range(1, len(training_loss) + 1)\n",
    "\n",
    "# Visualize loss history\n",
    "plt.plot(epoch_count, training_loss, 'r--')\n",
    "plt.plot(epoch_count, val_loss, 'b-')\n",
    "plt.title('Training | Validation loss')\n",
    "plt.legend(['Training Loss', 'Validation Loss'])\n",
    "plt.xlabel('Epoch')\n",
    "plt.ylabel('Loss')\n",
    "plt.show()"
   ]
  },
  {
   "cell_type": "code",
   "execution_count": 38,
   "metadata": {},
   "outputs": [],
   "source": [
    "from tensorflow.keras.models import load_model\n",
    "\n",
    "best_model = load_model('../working/best_GRU_loss.h5')"
   ]
  },
  {
   "cell_type": "code",
   "execution_count": 39,
   "metadata": {},
   "outputs": [
    {
     "name": "stdout",
     "output_type": "stream",
     "text": [
      "203/203 [==============================] - 6s 29ms/step\n"
     ]
    }
   ],
   "source": [
    "## predict utk dapet hasil asli-nya\n",
    "y_pred = best_model.predict(X_test_padded, verbose=1)\n",
    "y_pred = np.argmax(y_pred, axis=1)"
   ]
  },
  {
   "cell_type": "code",
   "execution_count": 40,
   "metadata": {},
   "outputs": [
    {
     "name": "stdout",
     "output_type": "stream",
     "text": [
      "              precision    recall  f1-score   support\n",
      "\n",
      "           0       0.91      0.92      0.92      1658\n",
      "           1       0.92      0.91      0.91      1745\n",
      "           2       0.97      0.96      0.96      2363\n",
      "           3       0.91      0.94      0.92       700\n",
      "\n",
      "    accuracy                           0.93      6466\n",
      "   macro avg       0.93      0.93      0.93      6466\n",
      "weighted avg       0.93      0.93      0.93      6466\n",
      "\n"
     ]
    }
   ],
   "source": [
    "from sklearn.metrics import confusion_matrix, classification_report\n",
    "\n",
    "print(classification_report(y_test, y_pred))"
   ]
  },
  {
   "cell_type": "code",
   "execution_count": 41,
   "metadata": {},
   "outputs": [],
   "source": [
    "id2cat = {\n",
    "    0: 'Technology',\n",
    "    1: 'Business',\n",
    "    2: 'Entertainment',\n",
    "    3: 'Medical'\n",
    "}\n",
    "\n",
    "y_pred_decoded = pd.Series(y_pred).map(id2cat)"
   ]
  },
  {
   "cell_type": "code",
   "execution_count": 42,
   "metadata": {},
   "outputs": [
    {
     "data": {
      "text/html": [
       "<div>\n",
       "<style scoped>\n",
       "    .dataframe tbody tr th:only-of-type {\n",
       "        vertical-align: middle;\n",
       "    }\n",
       "\n",
       "    .dataframe tbody tr th {\n",
       "        vertical-align: top;\n",
       "    }\n",
       "\n",
       "    .dataframe thead th {\n",
       "        text-align: right;\n",
       "    }\n",
       "</style>\n",
       "<table border=\"1\" class=\"dataframe\">\n",
       "  <thead>\n",
       "    <tr style=\"text-align: right;\">\n",
       "      <th></th>\n",
       "      <th>News Title</th>\n",
       "      <th>Category</th>\n",
       "    </tr>\n",
       "  </thead>\n",
       "  <tbody>\n",
       "    <tr>\n",
       "      <th>96</th>\n",
       "      <td>beyonce getting love advice from gwyneth paltrow</td>\n",
       "      <td>Entertainment</td>\n",
       "    </tr>\n",
       "    <tr>\n",
       "      <th>2608</th>\n",
       "      <td>rewalk exoskeleton for paraplegics gets fda approval</td>\n",
       "      <td>Medical</td>\n",
       "    </tr>\n",
       "    <tr>\n",
       "      <th>3686</th>\n",
       "      <td>beyonc is named one of time s most influential people</td>\n",
       "      <td>Entertainment</td>\n",
       "    </tr>\n",
       "    <tr>\n",
       "      <th>4130</th>\n",
       "      <td>sovaldi a pill for hepatitis c cures the liver wasting disease but it is costly</td>\n",
       "      <td>Medical</td>\n",
       "    </tr>\n",
       "    <tr>\n",
       "      <th>3393</th>\n",
       "      <td>earth like planets gliese g and d likely do not exist study</td>\n",
       "      <td>Technology</td>\n",
       "    </tr>\n",
       "    <tr>\n",
       "      <th>4808</th>\n",
       "      <td>record store day coming to a uk independent record shop near you</td>\n",
       "      <td>Entertainment</td>\n",
       "    </tr>\n",
       "    <tr>\n",
       "      <th>5383</th>\n",
       "      <td>casino developer applications flood york state offices</td>\n",
       "      <td>Business</td>\n",
       "    </tr>\n",
       "    <tr>\n",
       "      <th>4994</th>\n",
       "      <td>free ice cream today</td>\n",
       "      <td>Entertainment</td>\n",
       "    </tr>\n",
       "    <tr>\n",
       "      <th>3234</th>\n",
       "      <td>garth brooks court application to stop all concerts to be heard on thursday</td>\n",
       "      <td>Entertainment</td>\n",
       "    </tr>\n",
       "    <tr>\n",
       "      <th>2050</th>\n",
       "      <td>facebook to use drones lasers satellites to bring internet everywhere</td>\n",
       "      <td>Technology</td>\n",
       "    </tr>\n",
       "  </tbody>\n",
       "</table>\n",
       "</div>"
      ],
      "text/plain": [
       "                                                                           News Title  \\\n",
       "96                                   beyonce getting love advice from gwyneth paltrow   \n",
       "2608                             rewalk exoskeleton for paraplegics gets fda approval   \n",
       "3686                            beyonc is named one of time s most influential people   \n",
       "4130  sovaldi a pill for hepatitis c cures the liver wasting disease but it is costly   \n",
       "3393                      earth like planets gliese g and d likely do not exist study   \n",
       "4808                 record store day coming to a uk independent record shop near you   \n",
       "5383                           casino developer applications flood york state offices   \n",
       "4994                                                             free ice cream today   \n",
       "3234      garth brooks court application to stop all concerts to be heard on thursday   \n",
       "2050            facebook to use drones lasers satellites to bring internet everywhere   \n",
       "\n",
       "           Category  \n",
       "96    Entertainment  \n",
       "2608        Medical  \n",
       "3686  Entertainment  \n",
       "4130        Medical  \n",
       "3393     Technology  \n",
       "4808  Entertainment  \n",
       "5383       Business  \n",
       "4994  Entertainment  \n",
       "3234  Entertainment  \n",
       "2050     Technology  "
      ]
     },
     "execution_count": 42,
     "metadata": {},
     "output_type": "execute_result"
    }
   ],
   "source": [
    "pd.DataFrame({'News Title': X_test.reset_index(drop=True),\n",
    "              'Category': y_pred_decoded}).sample(10)"
   ]
  },
  {
   "cell_type": "markdown",
   "metadata": {},
   "source": [
    "## References:\n",
    "\n",
    "* [Understanding FastText:An Embedding To Look Forward To](https://medium.com/@adityamohanty/understanding-fasttext-an-embedding-to-look-forward-to-3ee9aa08787)\n",
    "* [Multi-Class Metrics Made Simple, Part II: the F1-score](https://towardsdatascience.com/multi-class-metrics-made-simple-part-ii-the-f1-score-ebe8b2c2ca1)\n",
    "* [A Tale of Two Macro-F1's](https://towardsdatascience.com/a-tale-of-two-macro-f1s-8811ddcf8f04)\n",
    "* [When Does Label Smoothing Help?](https://arxiv.org/pdf/1906.02629.pdf)"
   ]
  }
 ],
 "metadata": {
  "kernelspec": {
   "display_name": "Python 3",
   "language": "python",
   "name": "python3"
  },
  "language_info": {
   "codemirror_mode": {
    "name": "ipython",
    "version": 3
   },
   "file_extension": ".py",
   "mimetype": "text/x-python",
   "name": "python",
   "nbconvert_exporter": "python",
   "pygments_lexer": "ipython3",
   "version": "3.7.3"
  }
 },
 "nbformat": 4,
 "nbformat_minor": 4
}
