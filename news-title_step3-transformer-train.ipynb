{
 "cells": [
  {
   "cell_type": "markdown",
   "metadata": {},
   "source": [
    "# News Title Classification Project - Modeling (Transformer Model)\n",
    "\n",
    "We know our LSTM / GRU perform well for this classification task, but how about Transformer model? Can Transformer beat LSTM / GRU best performance?"
   ]
  },
  {
   "cell_type": "markdown",
   "metadata": {},
   "source": [
    "# Experiment with Transformer model results:\n",
    "\n",
    "|**Model**|**Bidirectional**|**Optimizer**|**Best Epoch**|**Val loss**|**Val Precision**|**Val Recall**|**F1 score (macro)**|**NOTES**|\n",
    "|:-----:|:-----:|:-----:|:-----:|:-----:|:-----:|:-----:|:-----:|:-----:|\n",
    "|BERT base english uncased| Yes| Adam (1e-5)| 4| 0.1848| 0.9460| 0.9392| 0.94| Baseline|\n",
    "|ALBERT base-v2 english uncased| Yes| Adam (1e-5)| 4| 0.2474| 0.9287| 0.9182| 0.92| I trained more than 10x, still didn't work for this dataset|\n",
    "|DistilBERT english uncased| Yes| Adam (1e-5)| 4| 0.2014| 0.9392| 0.9290| 0.93| Less parameter than BERT|\n",
    "|DistilBERT english uncased + text augmentation| Yes| Adam (1e-5)| 4| 0.1702| 0.9471| 0.9405| 0.93| Got better performance|\n",
    "|BERT base + text augmentation + label smoothing| Yes| Adam (1e-5)| 4| 0.4604 (label smoothing)| 0.9539| 0.9413| 0.94| More better performance|"
   ]
  },
  {
   "cell_type": "markdown",
   "metadata": {},
   "source": [
    "    I believe we still can improve Transformer model performance with bigger data (web crawling, more text augmentation etc), different optimizer like AdamW or RectifyAdam, Learning rate scheduler and another fancy technique. We can find on paper or kaggle competition notebook"
   ]
  },
  {
   "cell_type": "markdown",
   "metadata": {},
   "source": [
    "### Experience:\n",
    "\n",
    "    I've read, train Transformer model depends on their initialization, that's mean if we got BAD RESULT, we'll get BAD RESULT (better reset then retrain)\n",
    "\n",
    "* For BERT i was lucky got 0.2502 val loss in first epoch, then got better in 4 epoch\n",
    "* For ALBERT, sometimes i got 0.400 even 0.500 in first epoch, indeed it got bad result, later i got 0.300 in first epoch then got better result in the end of training\n",
    "* DistilBERT and BERT have a more stable performance"
   ]
  },
  {
   "cell_type": "code",
   "execution_count": 1,
   "metadata": {
    "_cell_guid": "b1076dfc-b9ad-4769-8c92-a6c4dae69d19",
    "_uuid": "8f2839f25d086af736a60e9eeb907d3b93b6e0e5"
   },
   "outputs": [
    {
     "name": "stdout",
     "output_type": "stream",
     "text": [
      "Using Tensorflow version: 2.2.0\n"
     ]
    }
   ],
   "source": [
    "import numpy as np\n",
    "import pandas as pd\n",
    "import matplotlib.pyplot as plt\n",
    "import seaborn as sns\n",
    "import os\n",
    "import random\n",
    "import pickle\n",
    "import tensorflow as tf\n",
    "import tensorflow.keras.backend as K\n",
    "import warnings\n",
    "\n",
    "warnings.filterwarnings('ignore')\n",
    "\n",
    "from tqdm.notebook import tqdm\n",
    "\n",
    "plt.style.use('fivethirtyeight')\n",
    "plt.rcParams['figure.figsize'] = [14, 8]\n",
    "\n",
    "pd.set_option('display.max_colwidth', None)\n",
    "\n",
    "print('Using Tensorflow version:', tf.__version__)"
   ]
  },
  {
   "cell_type": "code",
   "execution_count": 2,
   "metadata": {},
   "outputs": [],
   "source": [
    "def set_seed(seed):\n",
    "    random.seed(seed)\n",
    "    os.environ['PYTHONHASHSEED'] = str(seed)\n",
    "    np.random.seed(seed)\n",
    "    tf.random.set_seed(seed)\n",
    "\n",
    "set_seed(42)"
   ]
  },
  {
   "cell_type": "code",
   "execution_count": 3,
   "metadata": {},
   "outputs": [
    {
     "name": "stdout",
     "output_type": "stream",
     "text": [
      "News df cleaned shape: (64654, 3)\n"
     ]
    }
   ],
   "source": [
    "news_df_cleaned = pd.read_csv('/kaggle/input/gtect-project/news_title_cleaned.csv')\n",
    "\n",
    "print('News df cleaned shape:', news_df_cleaned.shape)"
   ]
  },
  {
   "cell_type": "code",
   "execution_count": 4,
   "metadata": {},
   "outputs": [],
   "source": [
    "# convert label to label-encoder\n",
    "cat2id = {\n",
    "    'Technology': 0,\n",
    "    'Business': 1,\n",
    "    'Entertainment': 2,\n",
    "    'Medical': 3\n",
    "}\n",
    "\n",
    "# convert back label-encoder to original label (after prediction)\n",
    "id2cat = {\n",
    "    0: 'Technology',\n",
    "    1: 'Business',\n",
    "    2: 'Entertainment',\n",
    "    3: 'Medical'\n",
    "}"
   ]
  },
  {
   "cell_type": "code",
   "execution_count": 5,
   "metadata": {},
   "outputs": [],
   "source": [
    "news_df_cleaned['Category'] = news_df_cleaned['Category'].map(cat2id)"
   ]
  },
  {
   "cell_type": "code",
   "execution_count": 6,
   "metadata": {},
   "outputs": [],
   "source": [
    "from sklearn.model_selection import train_test_split\n",
    "\n",
    "# train_dataset 90% - test_dataset 10%\n",
    "X_train, X_test, y_train, y_test = train_test_split(news_df_cleaned['News Title'],\n",
    "                                                   news_df_cleaned['Category'],\n",
    "                                                   test_size=0.1,\n",
    "                                                   stratify=news_df_cleaned['Category'],\n",
    "                                                   random_state=2020)"
   ]
  },
  {
   "cell_type": "code",
   "execution_count": 7,
   "metadata": {
    "_kg_hide-output": true
   },
   "outputs": [
    {
     "name": "stdout",
     "output_type": "stream",
     "text": [
      "\u001b[33mWARNING: You are using pip version 20.1.1; however, version 20.2.2 is available.\r\n",
      "You should consider upgrading via the '/opt/conda/bin/python3.7 -m pip install --upgrade pip' command.\u001b[0m\r\n"
     ]
    },
    {
     "name": "stderr",
     "output_type": "stream",
     "text": [
      "\u001b[34m\u001b[1mwandb\u001b[0m: \u001b[33mWARNING\u001b[0m W&B installed but not logged in.  Run `wandb login` or set the WANDB_API_KEY env variable.\n"
     ]
    }
   ],
   "source": [
    "!pip install nlpaug -q\n",
    "\n",
    "import nlpaug.augmenter.char as nac\n",
    "import nlpaug.augmenter.word as naw"
   ]
  },
  {
   "cell_type": "code",
   "execution_count": 8,
   "metadata": {},
   "outputs": [
    {
     "data": {
      "application/vnd.jupyter.widget-view+json": {
       "model_id": "2672c5d1bf2b4ae3b4ebd4c568572c0b",
       "version_major": 2,
       "version_minor": 0
      },
      "text/plain": [
       "HBox(children=(FloatProgress(value=0.0, max=58188.0), HTML(value='')))"
      ]
     },
     "metadata": {},
     "output_type": "display_data"
    },
    {
     "name": "stdout",
     "output_type": "stream",
     "text": [
      "\n",
      "CPU times: user 1min 13s, sys: 1.91 s, total: 1min 15s\n",
      "Wall time: 1min 16s\n"
     ]
    }
   ],
   "source": [
    "%%time\n",
    "\n",
    "review_augmented = []\n",
    "\n",
    "# aug = nas.ContextualWordEmbsForSentenceAug(model_path='gpt2') # Text Generation\n",
    "aug = naw.SynonymAug(aug_src='wordnet', aug_p=0.5) # higher aug_p = substitute more words\n",
    "\n",
    "for news_title in tqdm(X_train):\n",
    "    augmented_text = aug.augment(news_title)\n",
    "    review_augmented.append(augmented_text)"
   ]
  },
  {
   "cell_type": "code",
   "execution_count": 9,
   "metadata": {},
   "outputs": [
    {
     "name": "stdout",
     "output_type": "stream",
     "text": [
      "Original shape: (58188, 2)\n",
      "Augmented shape: (58188, 2)\n",
      "new train (combined) shape: (116376, 2)\n"
     ]
    }
   ],
   "source": [
    "train_aug = pd.DataFrame({'News Title': review_augmented,\n",
    "                          'Category': y_train})\n",
    "\n",
    "original_train = pd.DataFrame({'News Title': X_train,\n",
    "                               'Category': y_train})\n",
    "\n",
    "new_train = pd.concat([train_aug, original_train])\n",
    "\n",
    "print('Original shape:', original_train.shape)\n",
    "print('Augmented shape:', train_aug.shape)\n",
    "print('new train (combined) shape:', new_train.shape)"
   ]
  },
  {
   "cell_type": "code",
   "execution_count": 10,
   "metadata": {},
   "outputs": [
    {
     "name": "stdout",
     "output_type": "stream",
     "text": [
      "X_train shape: (104738,)\n",
      "X_valid shape: (11638,)\n",
      "X_test shape: (6466,)\n"
     ]
    }
   ],
   "source": [
    "#  train_dataset 90% - validation_dataset 10%\n",
    "X_train, X_valid, y_train, y_valid = train_test_split(new_train['News Title'],\n",
    "                                                      new_train['Category'],\n",
    "                                                      test_size=0.1,\n",
    "                                                      stratify=new_train['Category'],\n",
    "                                                      random_state=2020)\n",
    "\n",
    "print('X_train shape:', X_train.shape)\n",
    "print('X_valid shape:', X_valid.shape)\n",
    "print('X_test shape:', X_test.shape)"
   ]
  },
  {
   "cell_type": "code",
   "execution_count": 11,
   "metadata": {},
   "outputs": [],
   "source": [
    "from tensorflow.keras.utils import to_categorical\n",
    "\n",
    "y_train = to_categorical(y_train)\n",
    "y_valid = to_categorical(y_valid)"
   ]
  },
  {
   "cell_type": "markdown",
   "metadata": {},
   "source": [
    "## Create Transformer model"
   ]
  },
  {
   "cell_type": "code",
   "execution_count": 12,
   "metadata": {},
   "outputs": [],
   "source": [
    "import tensorflow as tf\n",
    "from tensorflow.keras.layers import Dense, Input\n",
    "from tensorflow.keras.optimizers import Adam\n",
    "from tensorflow.keras.models import Model\n",
    "from tensorflow.keras.callbacks import ModelCheckpoint\n",
    "\n",
    "import transformers\n",
    "from transformers import TFAutoModel, AutoTokenizer\n",
    "from tqdm.notebook import tqdm\n",
    "from tokenizers import Tokenizer, models, pre_tokenizers, decoders, processors"
   ]
  },
  {
   "cell_type": "code",
   "execution_count": 13,
   "metadata": {},
   "outputs": [],
   "source": [
    "def regular_encode(texts, tokenizer, maxlen=512):\n",
    "    enc_di = tokenizer.batch_encode_plus(\n",
    "        texts, \n",
    "        return_attention_masks=False, \n",
    "        return_token_type_ids=False,\n",
    "        pad_to_max_length=True,\n",
    "        max_length=maxlen)\n",
    "    \n",
    "    return np.array(enc_di['input_ids'])"
   ]
  },
  {
   "cell_type": "code",
   "execution_count": 14,
   "metadata": {},
   "outputs": [],
   "source": [
    "from tensorflow.keras.losses import CategoricalCrossentropy\n",
    "\n",
    "# use label smoothing (soft-labeling instead of hard-labeling)"
   ]
  },
  {
   "cell_type": "code",
   "execution_count": 15,
   "metadata": {},
   "outputs": [],
   "source": [
    "def build_model(transformer, max_len=512):\n",
    "    \n",
    "    input_word_ids = Input(shape=(max_len,), dtype=tf.int32, name=\"input_word_ids\")\n",
    "    sequence_output = transformer(input_word_ids)[0]\n",
    "    cls_token = sequence_output[:, 0, :]\n",
    "    out = Dense(4, activation='softmax')(cls_token) # 4 class label to classify\n",
    "    \n",
    "    model = Model(inputs=input_word_ids, outputs=out)\n",
    "    model.compile(Adam(lr=1e-5), loss=CategoricalCrossentropy(label_smoothing=0.1), metrics=[tf.keras.metrics.Precision(name='precision'), tf.keras.metrics.Recall(name='recall')])\n",
    "    \n",
    "    return model"
   ]
  },
  {
   "cell_type": "markdown",
   "metadata": {},
   "source": [
    "## Use TPU for training (faster)\n",
    "\n",
    "Transformers model takes a long time to train, especially in huge dataset, since Kaggle provides 30 hours free TPU / week for free, i prefer use TPU for saving my time (only took 2 minutes to complete train)\n",
    "\n",
    "    TPUs are hardware accelerators specialized in deep learning tasks."
   ]
  },
  {
   "cell_type": "code",
   "execution_count": 16,
   "metadata": {},
   "outputs": [
    {
     "name": "stdout",
     "output_type": "stream",
     "text": [
      "Running on TPU  grpc://10.0.0.2:8470\n",
      "REPLICAS:  8\n"
     ]
    }
   ],
   "source": [
    "# Detect hardware, return appropriate distribution strategy\n",
    "try:\n",
    "    tpu = tf.distribute.cluster_resolver.TPUClusterResolver()\n",
    "    print('Running on TPU ', tpu.master())\n",
    "except ValueError:\n",
    "    tpu = None\n",
    "\n",
    "if tpu:\n",
    "    tf.config.experimental_connect_to_cluster(tpu)\n",
    "    tf.tpu.experimental.initialize_tpu_system(tpu)\n",
    "    strategy = tf.distribute.experimental.TPUStrategy(tpu)\n",
    "else:\n",
    "    # Default distribution strategy in Tensorflow. Works on CPU and single GPU.\n",
    "    strategy = tf.distribute.get_strategy()\n",
    "\n",
    "print(\"REPLICAS: \", strategy.num_replicas_in_sync)"
   ]
  },
  {
   "cell_type": "code",
   "execution_count": 17,
   "metadata": {},
   "outputs": [],
   "source": [
    "AUTO = tf.data.experimental.AUTOTUNE\n",
    "\n",
    "# Configuration\n",
    "EPOCHS = 4\n",
    "BATCH_SIZE = 16 * strategy.num_replicas_in_sync\n",
    "\n",
    "# BERT-English; uncased: not use uppercase (only lowercase)\n",
    "MODEL = 'bert-base-uncased'\n",
    "# MODEL = 'albert-base-v2'\n",
    "# MODEL = 'distilbert-base-uncased'"
   ]
  },
  {
   "cell_type": "code",
   "execution_count": 18,
   "metadata": {},
   "outputs": [
    {
     "data": {
      "application/vnd.jupyter.widget-view+json": {
       "model_id": "9de3cec2d1fc4764adfa8319959b02ad",
       "version_major": 2,
       "version_minor": 0
      },
      "text/plain": [
       "HBox(children=(FloatProgress(value=0.0, description='Downloading', max=433.0, style=ProgressStyle(description_…"
      ]
     },
     "metadata": {},
     "output_type": "display_data"
    },
    {
     "name": "stdout",
     "output_type": "stream",
     "text": [
      "\n"
     ]
    },
    {
     "data": {
      "application/vnd.jupyter.widget-view+json": {
       "model_id": "77f3094b96a34408b6345eb8f4e8d6a6",
       "version_major": 2,
       "version_minor": 0
      },
      "text/plain": [
       "HBox(children=(FloatProgress(value=0.0, description='Downloading', max=231508.0, style=ProgressStyle(descripti…"
      ]
     },
     "metadata": {},
     "output_type": "display_data"
    },
    {
     "name": "stdout",
     "output_type": "stream",
     "text": [
      "\n"
     ]
    }
   ],
   "source": [
    "# First load the real tokenizer\n",
    "tokenizer = AutoTokenizer.from_pretrained(MODEL)"
   ]
  },
  {
   "cell_type": "code",
   "execution_count": 19,
   "metadata": {},
   "outputs": [
    {
     "name": "stdout",
     "output_type": "stream",
     "text": [
      "max_len: 22\n"
     ]
    }
   ],
   "source": [
    "MAXLEN = max(map(len, news_df_cleaned['News Title'].str.split()))\n",
    "print('max_len:', MAXLEN)"
   ]
  },
  {
   "cell_type": "code",
   "execution_count": 20,
   "metadata": {},
   "outputs": [
    {
     "name": "stdout",
     "output_type": "stream",
     "text": [
      "CPU times: user 57.7 s, sys: 105 ms, total: 57.8 s\n",
      "Wall time: 57.8 s\n"
     ]
    }
   ],
   "source": [
    "%%time \n",
    "\n",
    "x_train = regular_encode(X_train.values, tokenizer, maxlen=MAXLEN)\n",
    "x_valid = regular_encode(X_valid.values, tokenizer, maxlen=MAXLEN)\n",
    "x_test = regular_encode(X_test.values, tokenizer, maxlen=MAXLEN)"
   ]
  },
  {
   "cell_type": "code",
   "execution_count": 21,
   "metadata": {},
   "outputs": [],
   "source": [
    "train_dataset = (\n",
    "    tf.data.Dataset\n",
    "    .from_tensor_slices((x_train, y_train))\n",
    "    .repeat()\n",
    "    .shuffle(2048)\n",
    "    .batch(BATCH_SIZE)\n",
    "    .prefetch(AUTO)\n",
    ")\n",
    "\n",
    "valid_dataset = (\n",
    "    tf.data.Dataset\n",
    "    .from_tensor_slices((x_valid, y_valid))\n",
    "    .batch(BATCH_SIZE)\n",
    "    .cache()\n",
    "    .prefetch(AUTO)\n",
    ")\n",
    "\n",
    "test_dataset = (\n",
    "    tf.data.Dataset\n",
    "    .from_tensor_slices(x_test)\n",
    "    .batch(BATCH_SIZE)\n",
    ")"
   ]
  },
  {
   "cell_type": "code",
   "execution_count": 22,
   "metadata": {},
   "outputs": [
    {
     "data": {
      "application/vnd.jupyter.widget-view+json": {
       "model_id": "484e0591f8ce4942b92720a2c5a8b573",
       "version_major": 2,
       "version_minor": 0
      },
      "text/plain": [
       "HBox(children=(FloatProgress(value=0.0, description='Downloading', max=536063208.0, style=ProgressStyle(descri…"
      ]
     },
     "metadata": {},
     "output_type": "display_data"
    },
    {
     "name": "stdout",
     "output_type": "stream",
     "text": [
      "\n",
      "Model: \"model\"\n",
      "_________________________________________________________________\n",
      "Layer (type)                 Output Shape              Param #   \n",
      "=================================================================\n",
      "input_word_ids (InputLayer)  [(None, 22)]              0         \n",
      "_________________________________________________________________\n",
      "tf_bert_model (TFBertModel)  ((None, 22, 768), (None,  109482240 \n",
      "_________________________________________________________________\n",
      "tf_op_layer_strided_slice (T [(None, 768)]             0         \n",
      "_________________________________________________________________\n",
      "dense (Dense)                (None, 4)                 3076      \n",
      "=================================================================\n",
      "Total params: 109,485,316\n",
      "Trainable params: 109,485,316\n",
      "Non-trainable params: 0\n",
      "_________________________________________________________________\n",
      "CPU times: user 25.3 s, sys: 6.51 s, total: 31.8 s\n",
      "Wall time: 55.4 s\n"
     ]
    }
   ],
   "source": [
    "%%time\n",
    "with strategy.scope():\n",
    "    transformer_layer = TFAutoModel.from_pretrained(MODEL)\n",
    "    model = build_model(transformer_layer, max_len=MAXLEN)\n",
    "model.summary()"
   ]
  },
  {
   "cell_type": "code",
   "execution_count": 23,
   "metadata": {},
   "outputs": [
    {
     "name": "stdout",
     "output_type": "stream",
     "text": [
      "Epoch 1/4\n",
      "818/818 [==============================] - 65s 79ms/step - precision: 0.9052 - recall: 0.8253 - loss: 0.6122 - val_precision: 0.9327 - val_recall: 0.9005 - val_loss: 0.5166\n",
      "Epoch 2/4\n",
      "818/818 [==============================] - 53s 65ms/step - precision: 0.9409 - recall: 0.9100 - loss: 0.4999 - val_precision: 0.9445 - val_recall: 0.9217 - val_loss: 0.4848\n",
      "Epoch 3/4\n",
      "818/818 [==============================] - 53s 65ms/step - precision: 0.9576 - recall: 0.9381 - loss: 0.4556 - val_precision: 0.9499 - val_recall: 0.9327 - val_loss: 0.4709\n",
      "Epoch 4/4\n",
      "818/818 [==============================] - 54s 66ms/step - precision: 0.9695 - recall: 0.9570 - loss: 0.4267 - val_precision: 0.9539 - val_recall: 0.9413 - val_loss: 0.4604\n"
     ]
    }
   ],
   "source": [
    "n_steps = X_train.shape[0] // BATCH_SIZE\n",
    "\n",
    "train_history = model.fit(\n",
    "    train_dataset,\n",
    "    steps_per_epoch=n_steps,\n",
    "    validation_data=valid_dataset,\n",
    "    epochs=EPOCHS,\n",
    ")"
   ]
  },
  {
   "cell_type": "code",
   "execution_count": 24,
   "metadata": {},
   "outputs": [
    {
     "data": {
      "image/png": "[encoded data removed]",
      "text/plain": [
       "<Figure size 1008x576 with 1 Axes>"
      ]
     },
     "metadata": {},
     "output_type": "display_data"
    }
   ],
   "source": [
    "# Get training and test loss histories\n",
    "training_loss = train_history.history['loss']\n",
    "test_loss = train_history.history['val_loss']\n",
    "\n",
    "# Create count of the number of epochs\n",
    "epoch_count = range(1, len(training_loss) + 1)\n",
    "\n",
    "# Visualize loss history\n",
    "plt.plot(epoch_count, training_loss, 'r--')\n",
    "plt.plot(epoch_count, test_loss, 'b-')\n",
    "plt.legend(['Training Loss', 'Test Loss'])\n",
    "plt.xlabel('Epoch')\n",
    "plt.ylabel('Loss')\n",
    "plt.show()"
   ]
  },
  {
   "cell_type": "code",
   "execution_count": 25,
   "metadata": {},
   "outputs": [],
   "source": [
    "y_pred = model.predict(test_dataset)\n",
    "y_pred = np.argmax(y_pred, axis=1)"
   ]
  },
  {
   "cell_type": "code",
   "execution_count": 26,
   "metadata": {
    "_cell_guid": "79c7e3d0-c299-4dcb-8224-4455121ee9b0",
    "_uuid": "d629ff2d2480ee46fbb7e2d37f6b5fab8052498a"
   },
   "outputs": [
    {
     "name": "stdout",
     "output_type": "stream",
     "text": [
      "              precision    recall  f1-score   support\n",
      "\n",
      "           0       0.93      0.91      0.92      1658\n",
      "           1       0.90      0.94      0.92      1745\n",
      "           2       0.98      0.96      0.97      2363\n",
      "           3       0.93      0.94      0.94       700\n",
      "\n",
      "    accuracy                           0.94      6466\n",
      "   macro avg       0.93      0.94      0.94      6466\n",
      "weighted avg       0.94      0.94      0.94      6466\n",
      "\n"
     ]
    }
   ],
   "source": [
    "from sklearn.metrics import confusion_matrix, classification_report\n",
    "\n",
    "print(classification_report(y_test, y_pred))"
   ]
  },
  {
   "cell_type": "code",
   "execution_count": 27,
   "metadata": {},
   "outputs": [],
   "source": [
    "id2cat = {\n",
    "    0: 'Technology',\n",
    "    1: 'Business',\n",
    "    2: 'Entertainment',\n",
    "    3: 'Medical'\n",
    "}\n",
    "\n",
    "y_pred_decoded = pd.Series(y_pred).map(id2cat)"
   ]
  },
  {
   "cell_type": "code",
   "execution_count": 33,
   "metadata": {},
   "outputs": [
    {
     "data": {
      "text/html": [
       "<div>\n",
       "<style scoped>\n",
       "    .dataframe tbody tr th:only-of-type {\n",
       "        vertical-align: middle;\n",
       "    }\n",
       "\n",
       "    .dataframe tbody tr th {\n",
       "        vertical-align: top;\n",
       "    }\n",
       "\n",
       "    .dataframe thead th {\n",
       "        text-align: right;\n",
       "    }\n",
       "</style>\n",
       "<table border=\"1\" class=\"dataframe\">\n",
       "  <thead>\n",
       "    <tr style=\"text-align: right;\">\n",
       "      <th></th>\n",
       "      <th>News Title</th>\n",
       "      <th>Category</th>\n",
       "    </tr>\n",
       "  </thead>\n",
       "  <tbody>\n",
       "    <tr>\n",
       "      <th>3542</th>\n",
       "      <td>gold prices to remain lower today emkay</td>\n",
       "      <td>Business</td>\n",
       "    </tr>\n",
       "    <tr>\n",
       "      <th>5994</th>\n",
       "      <td>dollar rises in asia</td>\n",
       "      <td>Business</td>\n",
       "    </tr>\n",
       "    <tr>\n",
       "      <th>4239</th>\n",
       "      <td>chicago again gets an f from lung association for poor air quality</td>\n",
       "      <td>Technology</td>\n",
       "    </tr>\n",
       "    <tr>\n",
       "      <th>5998</th>\n",
       "      <td>google inc goog continues on self driving odyssey</td>\n",
       "      <td>Technology</td>\n",
       "    </tr>\n",
       "    <tr>\n",
       "      <th>4838</th>\n",
       "      <td>the associated pressmay updated minutes ago</td>\n",
       "      <td>Entertainment</td>\n",
       "    </tr>\n",
       "    <tr>\n",
       "      <th>5413</th>\n",
       "      <td>first asteroid with rings discovered</td>\n",
       "      <td>Technology</td>\n",
       "    </tr>\n",
       "    <tr>\n",
       "      <th>519</th>\n",
       "      <td>tesla stock rises on jersey vote wedbush rates it outperform</td>\n",
       "      <td>Business</td>\n",
       "    </tr>\n",
       "    <tr>\n",
       "      <th>1004</th>\n",
       "      <td>improving macbook battery life in</td>\n",
       "      <td>Technology</td>\n",
       "    </tr>\n",
       "    <tr>\n",
       "      <th>3243</th>\n",
       "      <td>dropbox announces carousel an app to organize backup your photos to</td>\n",
       "      <td>Technology</td>\n",
       "    </tr>\n",
       "    <tr>\n",
       "      <th>5472</th>\n",
       "      <td>boeing s capsule to act as a space shuttle</td>\n",
       "      <td>Technology</td>\n",
       "    </tr>\n",
       "  </tbody>\n",
       "</table>\n",
       "</div>"
      ],
      "text/plain": [
       "                                                               News Title  \\\n",
       "3542                              gold prices to remain lower today emkay   \n",
       "5994                                                 dollar rises in asia   \n",
       "4239   chicago again gets an f from lung association for poor air quality   \n",
       "5998                    google inc goog continues on self driving odyssey   \n",
       "4838                          the associated pressmay updated minutes ago   \n",
       "5413                                 first asteroid with rings discovered   \n",
       "519          tesla stock rises on jersey vote wedbush rates it outperform   \n",
       "1004                                    improving macbook battery life in   \n",
       "3243  dropbox announces carousel an app to organize backup your photos to   \n",
       "5472                           boeing s capsule to act as a space shuttle   \n",
       "\n",
       "           Category  \n",
       "3542       Business  \n",
       "5994       Business  \n",
       "4239     Technology  \n",
       "5998     Technology  \n",
       "4838  Entertainment  \n",
       "5413     Technology  \n",
       "519        Business  \n",
       "1004     Technology  \n",
       "3243     Technology  \n",
       "5472     Technology  "
      ]
     },
     "execution_count": 33,
     "metadata": {},
     "output_type": "execute_result"
    }
   ],
   "source": [
    "pd.DataFrame({'News Title': X_test.reset_index(drop=True),\n",
    "              'Category': y_pred_decoded}).sample(10)"
   ]
  },
  {
   "cell_type": "code",
   "execution_count": 29,
   "metadata": {},
   "outputs": [
    {
     "name": "stdout",
     "output_type": "stream",
     "text": [
      "Saved model weights\n"
     ]
    }
   ],
   "source": [
    "import h5py\n",
    "\n",
    "model.save_weights(\"bert_bestmodel.h5\")\n",
    "print(\"Saved model weights\")"
   ]
  }
 ],
 "metadata": {
  "kernelspec": {
   "display_name": "Python 3",
   "language": "python",
   "name": "python3"
  },
  "language_info": {
   "codemirror_mode": {
    "name": "ipython",
    "version": 3
   },
   "file_extension": ".py",
   "mimetype": "text/x-python",
   "name": "python",
   "nbconvert_exporter": "python",
   "pygments_lexer": "ipython3",
   "version": "3.7.3"
  }
 },
 "nbformat": 4,
 "nbformat_minor": 4
}
